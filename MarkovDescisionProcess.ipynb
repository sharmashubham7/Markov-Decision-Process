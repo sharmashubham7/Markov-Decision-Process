{
 "cells": [
  {
   "cell_type": "markdown",
   "metadata": {},
   "source": [
    "##### Shubham P Sharma"
   ]
  },
  {
   "cell_type": "code",
   "execution_count": 1,
   "metadata": {
    "collapsed": true
   },
   "outputs": [],
   "source": [
    "import pandas as pd\n",
    "import math\n",
    "import numpy as np"
   ]
  },
  {
   "cell_type": "code",
   "execution_count": 2,
   "metadata": {
    "collapsed": true
   },
   "outputs": [],
   "source": [
    "data = pd.read_table('mdp.txt', delim_whitespace=True , names=['state','action','destination','probability','reward'] )"
   ]
  },
  {
   "cell_type": "code",
   "execution_count": 3,
   "metadata": {
    "collapsed": true
   },
   "outputs": [],
   "source": [
    "#### states{c: cold w: warm e: overheated} action{0:slow 1:fast} "
   ]
  },
  {
   "cell_type": "code",
   "execution_count": 4,
   "metadata": {},
   "outputs": [
    {
     "data": {
      "text/html": [
       "<div>\n",
       "<style>\n",
       "    .dataframe thead tr:only-child th {\n",
       "        text-align: right;\n",
       "    }\n",
       "\n",
       "    .dataframe thead th {\n",
       "        text-align: left;\n",
       "    }\n",
       "\n",
       "    .dataframe tbody tr th {\n",
       "        vertical-align: top;\n",
       "    }\n",
       "</style>\n",
       "<table border=\"1\" class=\"dataframe\">\n",
       "  <thead>\n",
       "    <tr style=\"text-align: right;\">\n",
       "      <th></th>\n",
       "      <th>state</th>\n",
       "      <th>action</th>\n",
       "      <th>destination</th>\n",
       "      <th>probability</th>\n",
       "      <th>reward</th>\n",
       "    </tr>\n",
       "  </thead>\n",
       "  <tbody>\n",
       "    <tr>\n",
       "      <th>0</th>\n",
       "      <td>c</td>\n",
       "      <td>0</td>\n",
       "      <td>c</td>\n",
       "      <td>1.0</td>\n",
       "      <td>1</td>\n",
       "    </tr>\n",
       "    <tr>\n",
       "      <th>1</th>\n",
       "      <td>c</td>\n",
       "      <td>0</td>\n",
       "      <td>w</td>\n",
       "      <td>0.0</td>\n",
       "      <td>1</td>\n",
       "    </tr>\n",
       "    <tr>\n",
       "      <th>2</th>\n",
       "      <td>c</td>\n",
       "      <td>0</td>\n",
       "      <td>e</td>\n",
       "      <td>0.0</td>\n",
       "      <td>1</td>\n",
       "    </tr>\n",
       "    <tr>\n",
       "      <th>3</th>\n",
       "      <td>c</td>\n",
       "      <td>1</td>\n",
       "      <td>c</td>\n",
       "      <td>0.5</td>\n",
       "      <td>2</td>\n",
       "    </tr>\n",
       "    <tr>\n",
       "      <th>4</th>\n",
       "      <td>c</td>\n",
       "      <td>1</td>\n",
       "      <td>w</td>\n",
       "      <td>0.5</td>\n",
       "      <td>2</td>\n",
       "    </tr>\n",
       "    <tr>\n",
       "      <th>5</th>\n",
       "      <td>c</td>\n",
       "      <td>1</td>\n",
       "      <td>e</td>\n",
       "      <td>0.0</td>\n",
       "      <td>-10</td>\n",
       "    </tr>\n",
       "    <tr>\n",
       "      <th>6</th>\n",
       "      <td>w</td>\n",
       "      <td>0</td>\n",
       "      <td>c</td>\n",
       "      <td>0.5</td>\n",
       "      <td>1</td>\n",
       "    </tr>\n",
       "    <tr>\n",
       "      <th>7</th>\n",
       "      <td>w</td>\n",
       "      <td>0</td>\n",
       "      <td>w</td>\n",
       "      <td>0.5</td>\n",
       "      <td>1</td>\n",
       "    </tr>\n",
       "    <tr>\n",
       "      <th>8</th>\n",
       "      <td>w</td>\n",
       "      <td>0</td>\n",
       "      <td>e</td>\n",
       "      <td>0.0</td>\n",
       "      <td>-10</td>\n",
       "    </tr>\n",
       "    <tr>\n",
       "      <th>9</th>\n",
       "      <td>w</td>\n",
       "      <td>1</td>\n",
       "      <td>c</td>\n",
       "      <td>0.0</td>\n",
       "      <td>2</td>\n",
       "    </tr>\n",
       "    <tr>\n",
       "      <th>10</th>\n",
       "      <td>w</td>\n",
       "      <td>1</td>\n",
       "      <td>w</td>\n",
       "      <td>0.0</td>\n",
       "      <td>2</td>\n",
       "    </tr>\n",
       "    <tr>\n",
       "      <th>11</th>\n",
       "      <td>w</td>\n",
       "      <td>1</td>\n",
       "      <td>e</td>\n",
       "      <td>1.0</td>\n",
       "      <td>-10</td>\n",
       "    </tr>\n",
       "    <tr>\n",
       "      <th>12</th>\n",
       "      <td>e</td>\n",
       "      <td>0</td>\n",
       "      <td>c</td>\n",
       "      <td>0.0</td>\n",
       "      <td>1</td>\n",
       "    </tr>\n",
       "    <tr>\n",
       "      <th>13</th>\n",
       "      <td>e</td>\n",
       "      <td>0</td>\n",
       "      <td>w</td>\n",
       "      <td>0.0</td>\n",
       "      <td>1</td>\n",
       "    </tr>\n",
       "    <tr>\n",
       "      <th>14</th>\n",
       "      <td>e</td>\n",
       "      <td>0</td>\n",
       "      <td>e</td>\n",
       "      <td>0.0</td>\n",
       "      <td>1</td>\n",
       "    </tr>\n",
       "    <tr>\n",
       "      <th>15</th>\n",
       "      <td>e</td>\n",
       "      <td>1</td>\n",
       "      <td>c</td>\n",
       "      <td>0.0</td>\n",
       "      <td>2</td>\n",
       "    </tr>\n",
       "    <tr>\n",
       "      <th>16</th>\n",
       "      <td>e</td>\n",
       "      <td>1</td>\n",
       "      <td>w</td>\n",
       "      <td>0.0</td>\n",
       "      <td>2</td>\n",
       "    </tr>\n",
       "    <tr>\n",
       "      <th>17</th>\n",
       "      <td>e</td>\n",
       "      <td>1</td>\n",
       "      <td>e</td>\n",
       "      <td>0.0</td>\n",
       "      <td>-10</td>\n",
       "    </tr>\n",
       "  </tbody>\n",
       "</table>\n",
       "</div>"
      ],
      "text/plain": [
       "   state  action destination  probability  reward\n",
       "0      c       0           c          1.0       1\n",
       "1      c       0           w          0.0       1\n",
       "2      c       0           e          0.0       1\n",
       "3      c       1           c          0.5       2\n",
       "4      c       1           w          0.5       2\n",
       "5      c       1           e          0.0     -10\n",
       "6      w       0           c          0.5       1\n",
       "7      w       0           w          0.5       1\n",
       "8      w       0           e          0.0     -10\n",
       "9      w       1           c          0.0       2\n",
       "10     w       1           w          0.0       2\n",
       "11     w       1           e          1.0     -10\n",
       "12     e       0           c          0.0       1\n",
       "13     e       0           w          0.0       1\n",
       "14     e       0           e          0.0       1\n",
       "15     e       1           c          0.0       2\n",
       "16     e       1           w          0.0       2\n",
       "17     e       1           e          0.0     -10"
      ]
     },
     "execution_count": 4,
     "metadata": {},
     "output_type": "execute_result"
    }
   ],
   "source": [
    "data"
   ]
  },
  {
   "cell_type": "code",
   "execution_count": 5,
   "metadata": {},
   "outputs": [
    {
     "data": {
      "text/plain": [
       "0     0\n",
       "1     0\n",
       "2     0\n",
       "3     1\n",
       "4     1\n",
       "5     1\n",
       "6     0\n",
       "7     0\n",
       "8     0\n",
       "9     1\n",
       "10    1\n",
       "11    1\n",
       "12    0\n",
       "13    0\n",
       "14    0\n",
       "15    1\n",
       "16    1\n",
       "17    1\n",
       "Name: action, dtype: int64"
      ]
     },
     "execution_count": 5,
     "metadata": {},
     "output_type": "execute_result"
    }
   ],
   "source": [
    "cols=[\"state\",\"action\"]\n",
    "for col_name in cols:\n",
    "    daf=data\n",
    "    daf=daf[col_name]\n",
    "    \n",
    "    \n",
    "daf"
   ]
  },
  {
   "cell_type": "code",
   "execution_count": 6,
   "metadata": {
    "collapsed": true
   },
   "outputs": [],
   "source": [
    "def access(s,a,d):\n",
    "    x=data.loc[data['state']== s]\n",
    "    y=x.loc[x['action']== a]\n",
    "    z=y.loc[y['destination']==d]\n",
    "    return z"
   ]
  },
  {
   "cell_type": "code",
   "execution_count": 7,
   "metadata": {
    "collapsed": true
   },
   "outputs": [],
   "source": [
    "def probability(s,a,d):\n",
    "    pr=access(s,a,d)\n",
    "    x=(pr.iloc[:,3])\n",
    "    y=float(x)\n",
    "    return y\n"
   ]
  },
  {
   "cell_type": "code",
   "execution_count": 8,
   "metadata": {
    "collapsed": true
   },
   "outputs": [],
   "source": [
    "def reward(s,a,d):\n",
    "    rw=access(s,a,d)\n",
    "    rew=float(rw.iloc[:,4])\n",
    "    return rew\n",
    "\n"
   ]
  },
  {
   "cell_type": "code",
   "execution_count": 9,
   "metadata": {
    "collapsed": true
   },
   "outputs": [],
   "source": [
    "def v(i,s):\n",
    "    \n",
    "    if(i==0):\n",
    "        return 0\n",
    "    else:\n",
    "        x=max(q(i,s,a=0),q(i,s,a=1))\n",
    "        #print('v=',s,'i=',i,'x=',x)\n",
    "        return x\n",
    "    \n",
    "    \n",
    "def q(i,s,a):\n",
    "    d1='c'\n",
    "    d2='w'\n",
    "    d3='e'\n",
    "    gamma=0.6\n",
    "    p1=probability(s,a,d1)\n",
    "    p2=probability(s,a,d2)\n",
    "    p3=probability(s,a,d3)\n",
    "    \n",
    "    \n",
    "    #print('p1=',p1,'p2=',p2,'p3=',p3)\n",
    "    \n",
    "    r1=reward(s,a,d1)\n",
    "    r2=reward(s,a,d2)\n",
    "    r3=reward(s,a,d3)\n",
    "    \n",
    "    if(i==0):\n",
    "        #print('p1=',p1,'p2=',p2,'p3=',p3,'r1=',r1,'r2=',r2,'r3=',r3)\n",
    "        y=p1*(r1)+p2*(r2)+p3*(r3)\n",
    "        #print(y)\n",
    "        \n",
    "    else:\n",
    "        y=((p1*(r1+(gamma*x_C[i-1])))+(p2*(r2+(gamma*x_W[i-1])))+(p3*(r3+(gamma*x_E[i-1]))))\n",
    "        #print('p1=',p1,'p2=',p2,'p3=',p3,'r1=',r1,'r2=',r2,'r3=',r3)\n",
    "        #print('x_C=',x_C[i-1],'x_W=',x_W[i-1],'x_E=',x_E[i-1])\n",
    "    #print('y=',y)\n",
    "    return y"
   ]
  },
  {
   "cell_type": "code",
   "execution_count": 10,
   "metadata": {},
   "outputs": [
    {
     "name": "stdout",
     "output_type": "stream",
     "text": [
      "cold= 50 4.249999999969689\n",
      "warm= 50 3.249999999969689\n",
      "overheated= 50 0.0\n"
     ]
    }
   ],
   "source": [
    "x_C=np.empty([200])\n",
    "x_W=np.empty([200])\n",
    "x_E=np.empty([200])\n",
    "#def ans(s,i)\n",
    "for x in range(0,51):\n",
    "    #print(x)\n",
    "    if(x==0):\n",
    "        \n",
    "        x_C[x]=0\n",
    "        x_W[x]=0\n",
    "        x_E[x]=0\n",
    "        \n",
    "    else:\n",
    "        x_C[x]=v(x,'c')\n",
    "        x_W[x]=v(x,'w')\n",
    "        x_E[x]=v(x,'e')\n",
    "        \n",
    "        \n",
    "    #print('e=',x,x_C[x])\n",
    "        \n",
    "        \n",
    "        \n",
    "        \n",
    "print('cold=',x,x_C[x])\n",
    "\n",
    "        \n",
    "print('warm=',x,x_W[x])\n",
    "\n",
    "\n",
    "        \n",
    "print('overheated=',x,x_E[x])\n"
   ]
  },
  {
   "cell_type": "code",
   "execution_count": null,
   "metadata": {
    "collapsed": true
   },
   "outputs": [],
   "source": [
    "\n"
   ]
  }
 ],
 "metadata": {
  "kernelspec": {
   "display_name": "Python 3",
   "language": "python",
   "name": "python3"
  },
  "language_info": {
   "codemirror_mode": {
    "name": "ipython",
    "version": 3
   },
   "file_extension": ".py",
   "mimetype": "text/x-python",
   "name": "python",
   "nbconvert_exporter": "python",
   "pygments_lexer": "ipython3",
   "version": "3.6.3"
  }
 },
 "nbformat": 4,
 "nbformat_minor": 2
}
